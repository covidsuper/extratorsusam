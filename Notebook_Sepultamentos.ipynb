{
 "cells": [
  {
   "cell_type": "code",
   "execution_count": 1,
   "metadata": {},
   "outputs": [],
   "source": [
    "import tabula\n",
    "import pandas as pd\n",
    "from pandas import Series, DataFrame\n",
    "import numpy as np"
   ]
  },
  {
   "cell_type": "code",
   "execution_count": 4,
   "metadata": {},
   "outputs": [],
   "source": [
    "data='03-06-2020'\n",
    "local = '/home/thiago/Documentos/pdffvs/junho/BOLETIM_03-06-2020.pdf'\n",
    "\n",
    "def insere_data(df,data):\n",
    "    df['Data'] = data\n",
    "    df['Data'] = pd.to_datetime(df['Data'])\n",
    "    \n",
    "    return df\n",
    "\n",
    "def geraSepultamentos(local, data):\n",
    "    #gerando o df sem \n",
    "    sepultamentos = tabula.read_pdf(local, area=(0, 517, 594, 845), pages ='1'\n",
    "            ,multiple_tables=True,stream=True, pandas_options={'header':None})\n",
    "    sepultamentos = sepultamentos[0]\n",
    "    #\n",
    "    sepultamentos = sepultamentos.rename(columns ={0:'numero'})\n",
    "    sepultamentos = sepultamentos[sepultamentos.numero.isin(['Número TOTAL de sepultamentos por dia', 'Número TOTAL de óbitos domicliliares por dia','Número TOTAL de cremações por dia'])]\n",
    "    sepultamentos = sepultamentos.dropna(axis=1, how='all')\n",
    "    sepultamentos.columns = ['Dado','Quantidade']\n",
    "    sepultamentos = sepultamentos.set_index('Dado').T\n",
    "    sepultamentos.columns = ['Sepultamentos','Obitos','Cremações']\n",
    "    sepultamentos = insere_data(sepultamentos,data)\n",
    "    \n",
    "    return sepultamentos"
   ]
  },
  {
   "cell_type": "code",
   "execution_count": 5,
   "metadata": {},
   "outputs": [
    {
     "name": "stderr",
     "output_type": "stream",
     "text": [
      "Got stderr: jun 22, 2020 7:20:45 PM org.apache.pdfbox.pdmodel.font.PDCIDFontType2 <init>\n",
      "INFORMAÇÕES: OpenType Layout tables used in font ABCDEE+Calibri are not implemented in PDFBox and will be ignored\n",
      "\n"
     ]
    },
    {
     "data": {
      "text/html": [
       "<div>\n",
       "<style scoped>\n",
       "    .dataframe tbody tr th:only-of-type {\n",
       "        vertical-align: middle;\n",
       "    }\n",
       "\n",
       "    .dataframe tbody tr th {\n",
       "        vertical-align: top;\n",
       "    }\n",
       "\n",
       "    .dataframe thead th {\n",
       "        text-align: right;\n",
       "    }\n",
       "</style>\n",
       "<table border=\"1\" class=\"dataframe\">\n",
       "  <thead>\n",
       "    <tr style=\"text-align: right;\">\n",
       "      <th></th>\n",
       "      <th>Sepultamentos</th>\n",
       "      <th>Obitos</th>\n",
       "      <th>Cremações</th>\n",
       "      <th>Data</th>\n",
       "    </tr>\n",
       "  </thead>\n",
       "  <tbody>\n",
       "    <tr>\n",
       "      <th>Quantidade</th>\n",
       "      <td>40</td>\n",
       "      <td>6</td>\n",
       "      <td>1</td>\n",
       "      <td>2020-03-06</td>\n",
       "    </tr>\n",
       "  </tbody>\n",
       "</table>\n",
       "</div>"
      ],
      "text/plain": [
       "           Sepultamentos Obitos Cremações       Data\n",
       "Quantidade            40      6         1 2020-03-06"
      ]
     },
     "execution_count": 5,
     "metadata": {},
     "output_type": "execute_result"
    }
   ],
   "source": [
    "sep = geraSepultamentos(local,data)\n",
    "sep.to_csv('/home/thiago/Documentos/pdffvs/junho/csv/sepultamentos_05-04-2020.csv')\n",
    "sep"
   ]
  },
  {
   "cell_type": "code",
   "execution_count": null,
   "metadata": {},
   "outputs": [],
   "source": []
  }
 ],
 "metadata": {
  "kernelspec": {
   "display_name": "Python 3",
   "language": "python",
   "name": "python3"
  },
  "language_info": {
   "codemirror_mode": {
    "name": "ipython",
    "version": 3
   },
   "file_extension": ".py",
   "mimetype": "text/x-python",
   "name": "python",
   "nbconvert_exporter": "python",
   "pygments_lexer": "ipython3",
   "version": "3.6.8"
  }
 },
 "nbformat": 4,
 "nbformat_minor": 4
}
