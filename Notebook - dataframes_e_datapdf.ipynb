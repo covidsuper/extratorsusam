{
 "cells": [
  {
   "cell_type": "code",
   "execution_count": 1,
   "metadata": {},
   "outputs": [],
   "source": [
    "import tabula\n",
    "import pandas as pd\n",
    "from pandas import Series, DataFrame\n",
    "import numpy as np"
   ]
  },
  {
   "cell_type": "code",
   "execution_count": 2,
   "metadata": {},
   "outputs": [],
   "source": [
    "#captura a data do pdf\n",
    "#Param.: caminho do arquivo pdf\n",
    "def getData(caminho):\n",
    "    data = tabula.read_pdf(caminho, area=(43.662149620056155, 481.3357458114624, 66.80834941864013, 579.181044960022), pages ='1'\n",
    "    ,multiple_tables=False, pandas_options={'header':None})\n",
    "    data = data[0]\n",
    "    datat = pd.Series(data.loc[0],dtype=str).array\n",
    "\n",
    "    return datat[0]"
   ]
  },
  {
   "cell_type": "code",
   "execution_count": 3,
   "metadata": {},
   "outputs": [],
   "source": [
    "#elabora o dataframe de internados\n",
    "#Param.: caminho do arquivo pdf\n",
    "def dfInternados(caminho):\n",
    "    internados = tabula.read_pdf(caminho, area=(95.21504917144776, 518.1592454910278, 130.98644886016845, 733.8397436141968), pages ='1'\n",
    "    ,multiple_tables=False, pandas_options={'keep_default_na':False})\n",
    "    internados = internados[0]\n",
    "    #renomeando colunas\n",
    "    internados.columns = ['rede', 'internados','leito_clinico','%','em_uti','%']\n",
    "    #drop da linha 0\n",
    "    internados = internados.drop(0)\n",
    "\n",
    "    #drop de linhas vazias que podem acontecer\n",
    "    #criamos um filtro pra eliminar qualquer linha onde o nº de internados não tem nenhum valor\n",
    "    filtro  = internados['internados'] != ''\n",
    "    internados = internados[filtro]\n",
    "    return internados"
   ]
  },
  {
   "cell_type": "code",
   "execution_count": 4,
   "metadata": {},
   "outputs": [],
   "source": [
    "#elabora o dataframe de casos suspeitos\n",
    "#Param.: caminho do arquivo pdf\n",
    "def dfSuspeitos(caminho):\n",
    "    suspeitos = tabula.read_pdf(caminho, area=(140.455348777771, 523.4197454452515, 172.0183485031128, 728.5792436599731), pages ='1'\n",
    "    ,multiple_tables=False)\n",
    "    suspeitos = suspeitos[0]\n",
    "    #renomeando colunas\n",
    "    suspeitos.columns = ['rede', 'internados','leito_clinico','%','em_uti','%']\n",
    "\n",
    "    return suspeitos"
   ]
  },
  {
   "cell_type": "code",
   "execution_count": 5,
   "metadata": {},
   "outputs": [],
   "source": [
    "#elabora o dataframe de obitos\n",
    "#Param.: caminho do arquivo pdf\n",
    "def dfObitos(caminho):\n",
    "    obitos = tabula.read_pdf(caminho, area=(188.8519483566284, 520.2634454727173, 219.3628480911255, 809.5909429550171), pages ='1'\n",
    "    ,multiple_tables=False)\n",
    "    obitos = obitos[0]\n",
    "    #drop da linha 0\n",
    "    obitos = obitos.drop(0)\n",
    "\n",
    "    #drop de colunas vazias que podem acontecer\n",
    "    obitos = obitos.dropna(axis='columns')\n",
    "\n",
    "    #renomeando colunas\n",
    "    obitos.columns = ['notificados', 'acumulado','%','24h','confirmacao_diagnostica','total','descartados',\n",
    "                     'aguardando_resultado','investigacao','total']\n",
    "\n",
    "    return obitos"
   ]
  },
  {
   "cell_type": "code",
   "execution_count": 6,
   "metadata": {},
   "outputs": [],
   "source": [
    "#elabora o dataframe de sepultamentos\n",
    "#Param.: caminho do arquivo pdf\n",
    "def dfSepultamentos(caminho):\n",
    "    sepultamentos = tabula.read_pdf(caminho, area=(270.9157476425171, 517.1071455001832, 299.32244739532473, 804.3304430007935), pages ='1'\n",
    "    ,multiple_tables=False)\n",
    "    sepultamentos = sepultamentos[0]\n",
    "\n",
    "    #renomeando colunas\n",
    "    sepultamentos.columns = ['dado','quantidade']\n",
    "\n",
    "    return sepultamentos "
   ]
  },
  {
   "cell_type": "code",
   "execution_count": null,
   "metadata": {},
   "outputs": [],
   "source": []
  }
 ],
 "metadata": {
  "kernelspec": {
   "display_name": "Python 3",
   "language": "python",
   "name": "python3"
  },
  "language_info": {
   "codemirror_mode": {
    "name": "ipython",
    "version": 3
   },
   "file_extension": ".py",
   "mimetype": "text/x-python",
   "name": "python",
   "nbconvert_exporter": "python",
   "pygments_lexer": "ipython3",
   "version": "3.6.8"
  }
 },
 "nbformat": 4,
 "nbformat_minor": 4
}
