{
 "cells": [
  {
   "cell_type": "code",
   "execution_count": 1,
   "metadata": {},
   "outputs": [],
   "source": [
    "import tabula\n",
    "import pandas as pd\n",
    "from pandas import Series, DataFrame\n",
    "import numpy as np"
   ]
  },
  {
   "cell_type": "code",
   "execution_count": 54,
   "metadata": {},
   "outputs": [],
   "source": [
    "\n",
    "\n",
    "def insere_data(df,data):\n",
    "    df['Data'] = data\n",
    "    df['Data'] = pd.to_datetime(df['Data'].astype(str), format='%d-%m-%Y')\n",
    "    \n",
    "    return df\n",
    "\n",
    "def geraSepultamentos(local, data):\n",
    "    #gerando o df sem \n",
    "    sepultamentos = tabula.read_pdf(local, area=(0, 517, 594, 845), pages ='1'\n",
    "            ,multiple_tables=True,stream=True, pandas_options={'header':None})\n",
    "    sepultamentos = sepultamentos[0]\n",
    "    #\n",
    "    sepultamentos = sepultamentos.rename(columns ={0:'numero'})\n",
    "    \n",
    "    sepultamentos = sepultamentos[sepultamentos.numero.isin(['Número TOTAL de sepultamentos por dia', 'Número TOTAL de óbitos domicliliares por dia','Número TOTAL de cremações por dia'])]\n",
    "    sepultamentos = sepultamentos.dropna(axis=1, how='all')\n",
    "    sepultamentos.columns = ['Dado','Quantidade']\n",
    "    sepultamentos = sepultamentos.set_index('Dado').T\n",
    "    sepultamentos.columns = ['Sepultamentos','Obitos Domiciliares','Cremações']\n",
    "    sepultamentos = insere_data(sepultamentos,data)\n",
    "    \n",
    "    return sepultamentos\n",
    "\n",
    "def geraCSV(destino,operacao,dfLeitos,csv_completo):\n",
    "    if(operacao == 'n'):\n",
    "        nome = str(destino+'SEPULTAMENTOS.csv')\n",
    "        dfLeitos.to_csv(nome)\n",
    "        print('Finalizada a criação do csv!')\n",
    "    else:\n",
    "        #recupera o df completo a ser concatenado\n",
    "        dfCompleto = pd.read_csv(csv_completo)\n",
    "        dfFinal = pd.concat([dfLeitos,dfCompleto], ignore_index = True)\n",
    "        dfFinal = dfFinal.drop('Unnamed: 0', axis = 1)\n",
    "        nome = str(csv_completo)\n",
    "        dfFinal.to_csv(nome)\n",
    "        print('Finalizada a concatenação do csv!')\n",
    "\n"
   ]
  },
  {
   "cell_type": "code",
   "execution_count": 52,
   "metadata": {},
   "outputs": [
    {
     "name": "stdout",
     "output_type": "stream",
     "text": [
      "(c) Concatenar | (n) Criar novo csv: c\n",
      "Digite o caminho para o PDF: 03_06_20_BOLETIM_DIARIO_DE_CASOS_COVID-19_v.06-1.pdf\n",
      "Digite a data do arquivo (MM-DD-YYYY): 06-03-2020\n",
      "Digite o caminho para o CSV a ser concatenado: dadosSEPULTAMENTOS.csv\n"
     ]
    },
    {
     "name": "stderr",
     "output_type": "stream",
     "text": [
      "Got stderr: jun 25, 2020 11:49:34 AM org.apache.pdfbox.pdmodel.font.PDCIDFontType2 <init>\r\n",
      "INFORMAÇÕES: OpenType Layout tables used in font ABCDEE+Calibri are not implemented in PDFBox and will be ignored\r\n",
      "\n"
     ]
    },
    {
     "name": "stdout",
     "output_type": "stream",
     "text": [
      "Finalizada a concatenação do csv!\n"
     ]
    }
   ],
   "source": [
    "operacao = input('(c) Concatenar | (n) Criar novo csv: ')\n",
    "\n",
    "operacao = operacao.lower()\n",
    "\n",
    "if(operacao == 'n'):\n",
    "    origem = input('Digite o caminho para o PDF: ')\n",
    "\n",
    "    data = input('Digite a data do arquivo (MES-DIA-ANO): ')\n",
    "\n",
    "    destino = input('Digite o caminho para ser salvo: ')\n",
    "    \n",
    "    #chama a função geraSepultamentos\n",
    "\n",
    "    sepultamentos = geraSepultamentos(origem,data)\n",
    "    \n",
    "    #gera o csv\n",
    "    \n",
    "    geraCSV(destino,operacao,sepultamentos,0)\n",
    "    \n",
    "else:\n",
    "    origem = input('Digite o caminho para o PDF: ')\n",
    "\n",
    "    data = input('Digite a data do arquivo (MM-DD-YYYY): ')\n",
    "\n",
    "    csv_completo = input('Digite o caminho para o CSV a ser concatenado: ')\n",
    "    \n",
    "    #cria o novo df\n",
    "    sepultamentos = geraSepultamentos(origem,data)\n",
    "    \n",
    "    #salva o CSV\n",
    "    geraCSV(0,operacao,sepultamentos,csv_completo)"
   ]
  },
  {
   "cell_type": "code",
   "execution_count": 53,
   "metadata": {},
   "outputs": [
    {
     "data": {
      "text/html": [
       "<div>\n",
       "<style scoped>\n",
       "    .dataframe tbody tr th:only-of-type {\n",
       "        vertical-align: middle;\n",
       "    }\n",
       "\n",
       "    .dataframe tbody tr th {\n",
       "        vertical-align: top;\n",
       "    }\n",
       "\n",
       "    .dataframe thead th {\n",
       "        text-align: right;\n",
       "    }\n",
       "</style>\n",
       "<table border=\"1\" class=\"dataframe\">\n",
       "  <thead>\n",
       "    <tr style=\"text-align: right;\">\n",
       "      <th></th>\n",
       "      <th>Unnamed: 0</th>\n",
       "      <th>Sepultamentos</th>\n",
       "      <th>Obitos Domiciliares</th>\n",
       "      <th>Cremações</th>\n",
       "      <th>Data</th>\n",
       "    </tr>\n",
       "  </thead>\n",
       "  <tbody>\n",
       "    <tr>\n",
       "      <th>0</th>\n",
       "      <td>0</td>\n",
       "      <td>40</td>\n",
       "      <td>6</td>\n",
       "      <td>1</td>\n",
       "      <td>2020-06-03 00:00:00</td>\n",
       "    </tr>\n",
       "    <tr>\n",
       "      <th>1</th>\n",
       "      <td>1</td>\n",
       "      <td>40</td>\n",
       "      <td>9</td>\n",
       "      <td>0</td>\n",
       "      <td>2020-06-02 00:00:00</td>\n",
       "    </tr>\n",
       "    <tr>\n",
       "      <th>2</th>\n",
       "      <td>2</td>\n",
       "      <td>45</td>\n",
       "      <td>9</td>\n",
       "      <td>1</td>\n",
       "      <td>2020-06-01</td>\n",
       "    </tr>\n",
       "  </tbody>\n",
       "</table>\n",
       "</div>"
      ],
      "text/plain": [
       "   Unnamed: 0  Sepultamentos  Obitos Domiciliares  Cremações  \\\n",
       "0           0             40                    6          1   \n",
       "1           1             40                    9          0   \n",
       "2           2             45                    9          1   \n",
       "\n",
       "                  Data  \n",
       "0  2020-06-03 00:00:00  \n",
       "1  2020-06-02 00:00:00  \n",
       "2           2020-06-01  "
      ]
     },
     "execution_count": 53,
     "metadata": {},
     "output_type": "execute_result"
    }
   ],
   "source": [
    "dados = pd.read_csv('dadosSEPULTAMENTOS.csv')\n",
    "dados"
   ]
  },
  {
   "cell_type": "code",
   "execution_count": null,
   "metadata": {},
   "outputs": [],
   "source": []
  }
 ],
 "metadata": {
  "kernelspec": {
   "display_name": "Python 3",
   "language": "python",
   "name": "python3"
  },
  "language_info": {
   "codemirror_mode": {
    "name": "ipython",
    "version": 3
   },
   "file_extension": ".py",
   "mimetype": "text/x-python",
   "name": "python",
   "nbconvert_exporter": "python",
   "pygments_lexer": "ipython3",
   "version": "3.7.6"
  }
 },
 "nbformat": 4,
 "nbformat_minor": 4
}
