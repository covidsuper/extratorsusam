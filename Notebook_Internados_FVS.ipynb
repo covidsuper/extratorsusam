{
 "cells": [
  {
   "cell_type": "code",
   "execution_count": 1,
   "metadata": {},
   "outputs": [],
   "source": [
    "import tabula\n",
    "import pandas as pd\n",
    "from pandas import Series, DataFrame\n",
    "import numpy as np"
   ]
  },
  {
   "cell_type": "code",
   "execution_count": 5,
   "metadata": {},
   "outputs": [],
   "source": [
    "def insere_data(df,data):\n",
    "    df['Data'] = data\n",
    "    df['Data'] = pd.to_datetime(df['Data'])\n",
    "    \n",
    "    return df\n",
    "\n",
    "def geraInternados(local, data):\n",
    "    dia = int(data[0]+data[1])\n",
    "    internados = tabula.read_pdf(local, area=(84, 519, 182, 730), pages ='1'\n",
    "        ,multiple_tables=False)\n",
    "    internados = internados[0]\n",
    "    #drop de colunas que não tenham dados\n",
    "    internados = internados.dropna(axis=1, how='all')\n",
    "\n",
    "    #drop das linhas de suspeitos\n",
    "    internados = internados.drop([6,7])\n",
    "    \n",
    "    #ate o dia 05 são 5 colunas e 6 nos demais\n",
    "    if(dia<=5):\n",
    "        internados.columns = ['Rede', 'Internados','Leito Clinico','Em UTI','%']\n",
    "        internados = internados[internados.Rede.isin(['PRIVADA', 'PÚBLICA'])]\n",
    "    else:\n",
    "        internados.columns = ['Rede', 'Internados','Leito Clinico','%','Em UTI','%']\n",
    "        internados = internados[internados.Rede.isin(['PRIVADA', 'PÚBLICA'])]\n",
    "    \n",
    "    internados = insere_data(internados,data)\n",
    "    return internados\n",
    "\n",
    "def geraSuspeitos(local, data):\n",
    "    dia = int(data[0]+data[1])\n",
    "    suspeitos = tabula.read_pdf(local, area=(84, 519, 182, 730), pages ='1'\n",
    "        ,multiple_tables=False)\n",
    "    suspeitos = suspeitos[0]\n",
    "    #drop de colunas que não tenham dados\n",
    "    suspeitos = suspeitos.dropna(axis=1, how='all')\n",
    "\n",
    "    #drop das linhas de suspeitos\n",
    "    suspeitos = suspeitos.drop([1,2])\n",
    "    \n",
    "    #ate o dia 05 são 5 colunas e 6 nos demais\n",
    "    if(dia<=5):\n",
    "        suspeitos.columns = ['Rede', 'Internados','Leito Clinico','Em UTI','%']\n",
    "        suspeitos = suspeitos[suspeitos.Rede.isin(['PRIVADA', 'PÚBLICA'])]\n",
    "    else:\n",
    "        suspeitos.columns = ['Rede', 'Internados','Leito Clinico','%','Em UTI','%']\n",
    "        suspeitos = suspeitos[suspeitos.Rede.isin(['PRIVADA', 'PÚBLICA'])]\n",
    "    \n",
    "    suspeitos = insere_data(suspeitos,data)\n",
    "    return suspeitos"
   ]
  },
  {
   "cell_type": "code",
   "execution_count": 3,
   "metadata": {},
   "outputs": [
    {
     "name": "stdout",
     "output_type": "stream",
     "text": [
      "Adicione a data do PDF :05-05-2020\n"
     ]
    },
    {
     "name": "stderr",
     "output_type": "stream",
     "text": [
      "Got stderr: jun 22, 2020 1:13:51 PM org.apache.pdfbox.pdmodel.font.PDCIDFontType2 <init>\n",
      "INFORMAÇÕES: OpenType Layout tables used in font ABCDEE+Calibri are not implemented in PDFBox and will be ignored\n",
      "\n"
     ]
    },
    {
     "data": {
      "text/html": [
       "<div>\n",
       "<style scoped>\n",
       "    .dataframe tbody tr th:only-of-type {\n",
       "        vertical-align: middle;\n",
       "    }\n",
       "\n",
       "    .dataframe tbody tr th {\n",
       "        vertical-align: top;\n",
       "    }\n",
       "\n",
       "    .dataframe thead th {\n",
       "        text-align: right;\n",
       "    }\n",
       "</style>\n",
       "<table border=\"1\" class=\"dataframe\">\n",
       "  <thead>\n",
       "    <tr style=\"text-align: right;\">\n",
       "      <th></th>\n",
       "      <th>Rede</th>\n",
       "      <th>Internados</th>\n",
       "      <th>Leito Clinico</th>\n",
       "      <th>Em UTI</th>\n",
       "      <th>%</th>\n",
       "      <th>Data</th>\n",
       "    </tr>\n",
       "  </thead>\n",
       "  <tbody>\n",
       "    <tr>\n",
       "      <th>1</th>\n",
       "      <td>PRIVADA</td>\n",
       "      <td>88</td>\n",
       "      <td>36</td>\n",
       "      <td>52</td>\n",
       "      <td>59,09%</td>\n",
       "      <td>2020-05-05</td>\n",
       "    </tr>\n",
       "    <tr>\n",
       "      <th>2</th>\n",
       "      <td>PÚBLICA</td>\n",
       "      <td>316</td>\n",
       "      <td>213</td>\n",
       "      <td>103</td>\n",
       "      <td>32,59%</td>\n",
       "      <td>2020-05-05</td>\n",
       "    </tr>\n",
       "  </tbody>\n",
       "</table>\n",
       "</div>"
      ],
      "text/plain": [
       "      Rede Internados Leito Clinico Em UTI       %       Data\n",
       "1  PRIVADA         88            36     52  59,09% 2020-05-05\n",
       "2  PÚBLICA        316           213    103  32,59% 2020-05-05"
      ]
     },
     "execution_count": 3,
     "metadata": {},
     "output_type": "execute_result"
    }
   ],
   "source": [
    "local = '/home/thiago/Documentos/pdffvs/junho/BOLETIM_05-06-2020.pdf'\n",
    "data = str(input(\"Adicione a data do PDF :\"))\n",
    "internados = geraInternados(local,data)\n",
    "internados"
   ]
  },
  {
   "cell_type": "code",
   "execution_count": 4,
   "metadata": {},
   "outputs": [],
   "source": [
    "internados.to_csv('/home/thiago/Documentos/pdffvs/junho/csv/internados_05-04-2020.csv')"
   ]
  },
  {
   "cell_type": "code",
   "execution_count": 7,
   "metadata": {},
   "outputs": [
    {
     "name": "stdout",
     "output_type": "stream",
     "text": [
      "Adicione a data do PDF :05-06-2020\n"
     ]
    },
    {
     "name": "stderr",
     "output_type": "stream",
     "text": [
      "Got stderr: jun 22, 2020 1:27:10 PM org.apache.pdfbox.pdmodel.font.PDCIDFontType2 <init>\n",
      "INFORMAÇÕES: OpenType Layout tables used in font ABCDEE+Calibri are not implemented in PDFBox and will be ignored\n",
      "\n"
     ]
    },
    {
     "data": {
      "text/html": [
       "<div>\n",
       "<style scoped>\n",
       "    .dataframe tbody tr th:only-of-type {\n",
       "        vertical-align: middle;\n",
       "    }\n",
       "\n",
       "    .dataframe tbody tr th {\n",
       "        vertical-align: top;\n",
       "    }\n",
       "\n",
       "    .dataframe thead th {\n",
       "        text-align: right;\n",
       "    }\n",
       "</style>\n",
       "<table border=\"1\" class=\"dataframe\">\n",
       "  <thead>\n",
       "    <tr style=\"text-align: right;\">\n",
       "      <th></th>\n",
       "      <th>Rede</th>\n",
       "      <th>Internados</th>\n",
       "      <th>Leito Clinico</th>\n",
       "      <th>Em UTI</th>\n",
       "      <th>%</th>\n",
       "      <th>Data</th>\n",
       "    </tr>\n",
       "  </thead>\n",
       "  <tbody>\n",
       "    <tr>\n",
       "      <th>6</th>\n",
       "      <td>PRIVADA</td>\n",
       "      <td>58</td>\n",
       "      <td>33</td>\n",
       "      <td>25</td>\n",
       "      <td>43,10%</td>\n",
       "      <td>2020-05-06</td>\n",
       "    </tr>\n",
       "    <tr>\n",
       "      <th>7</th>\n",
       "      <td>PÚBLICA</td>\n",
       "      <td>354</td>\n",
       "      <td>246</td>\n",
       "      <td>108</td>\n",
       "      <td>30,51%</td>\n",
       "      <td>2020-05-06</td>\n",
       "    </tr>\n",
       "  </tbody>\n",
       "</table>\n",
       "</div>"
      ],
      "text/plain": [
       "      Rede Internados Leito Clinico Em UTI       %       Data\n",
       "6  PRIVADA         58            33     25  43,10% 2020-05-06\n",
       "7  PÚBLICA        354           246    108  30,51% 2020-05-06"
      ]
     },
     "execution_count": 7,
     "metadata": {},
     "output_type": "execute_result"
    }
   ],
   "source": [
    "local = '/home/thiago/Documentos/pdffvs/junho/BOLETIM_05-06-2020.pdf'\n",
    "data = str(input(\"Adicione a data do PDF :\"))\n",
    "suspeitos = geraSuspeitos(local,data)\n",
    "suspeitos"
   ]
  },
  {
   "cell_type": "code",
   "execution_count": null,
   "metadata": {},
   "outputs": [],
   "source": [
    "suspeitos.to_csv('/home/thiago/Documentos/pdffvs/junho/csv/suspeitos_05-04-2020.csv')"
   ]
  }
 ],
 "metadata": {
  "kernelspec": {
   "display_name": "Python 3",
   "language": "python",
   "name": "python3"
  },
  "language_info": {
   "codemirror_mode": {
    "name": "ipython",
    "version": 3
   },
   "file_extension": ".py",
   "mimetype": "text/x-python",
   "name": "python",
   "nbconvert_exporter": "python",
   "pygments_lexer": "ipython3",
   "version": "3.6.8"
  }
 },
 "nbformat": 4,
 "nbformat_minor": 4
}
